{
 "cells": [
  {
   "cell_type": "markdown",
   "metadata": {},
   "source": [
    "**Introduction:**\n",
    "\n",
    "Welcome to my notebook for the User Profiling and Segmentation project, part of the internship at AICP (Artificial Intelligence for Customer Profiling). This project focuses on analyzing user behavior and preferences to create meaningful user segments for targeted marketing strategies and personalized recommendations.\n"
   ]
  },
  {
   "cell_type": "markdown",
   "metadata": {},
   "source": [
    "**Dataset Overview:**\n",
    "\n",
    "The dataset \"user_profiles_for_ads.csv\" contains the following columns:\n",
    "\n",
    "- User ID: Unique identifier for each user.\n",
    "- Age: Age range of the user.\n",
    "- Gender: Gender of the user.\n",
    "- Location: User’s location type (Urban, Suburban, Rural).\n",
    "- Language: Primary language of the user.\n",
    "- Education Level: Highest education level achieved.\n",
    "- Likes and Reactions: Number of likes and reactions a user has made.\n",
    "- Followed Accounts: Number of accounts a user follows.\n",
    "- Device Usage: Primary device used for accessing the platform (Mobile, Desktop, Tablet).\n",
    "- Time Spent Online (hrs/weekday): Average hours spent online on weekdays.\n",
    "- Time Spent Online (hrs/weekend): Average hours spent online on weekends.\n",
    "- Click-Through Rates (CTR): The percentage of ad impressions that lead to clicks.\n",
    "- Conversion Rates: The percentage of clicks that lead to conversions/actions.\n",
    "- Ad Interaction Time (sec): Average time spent interacting with ads in seconds.\n",
    "- Income Level: User’s income level.\n",
    "- Top Interests: Primary interests of the user.\n"
   ]
  },
  {
   "cell_type": "code",
   "execution_count": 76,
   "metadata": {},
   "outputs": [],
   "source": [
    "import pandas as pd\n",
    "import numpy as np\n",
    "from sklearn.preprocessing import StandardScaler, OneHotEncoder\n",
    "from sklearn.compose import ColumnTransformer\n",
    "from sklearn.pipeline import Pipeline\n",
    "from sklearn.cluster import KMeans\n",
    "import matplotlib.pyplot as plt\n",
    "import seaborn as sns\n",
    "from sklearn.preprocessing import StandardScaler, LabelEncoder"
   ]
  },
  {
   "cell_type": "markdown",
   "metadata": {},
   "source": [
    "**Q.1: Import data and check null values, column info, and descriptive statistics of the data.**\n"
   ]
  },
  {
   "cell_type": "code",
   "execution_count": 77,
   "metadata": {},
   "outputs": [],
   "source": [
    "#Import data and check null values, column info, and descriptive statistics\n",
    "data = pd.read_csv(\"user_profiles_for_ads.csv\")"
   ]
  },
  {
   "cell_type": "code",
   "execution_count": 78,
   "metadata": {},
   "outputs": [
    {
     "data": {
      "text/html": [
       "<div>\n",
       "<style scoped>\n",
       "    .dataframe tbody tr th:only-of-type {\n",
       "        vertical-align: middle;\n",
       "    }\n",
       "\n",
       "    .dataframe tbody tr th {\n",
       "        vertical-align: top;\n",
       "    }\n",
       "\n",
       "    .dataframe thead th {\n",
       "        text-align: right;\n",
       "    }\n",
       "</style>\n",
       "<table border=\"1\" class=\"dataframe\">\n",
       "  <thead>\n",
       "    <tr style=\"text-align: right;\">\n",
       "      <th></th>\n",
       "      <th>User ID</th>\n",
       "      <th>Age</th>\n",
       "      <th>Gender</th>\n",
       "      <th>Location</th>\n",
       "      <th>Language</th>\n",
       "      <th>Education Level</th>\n",
       "      <th>Likes and Reactions</th>\n",
       "      <th>Followed Accounts</th>\n",
       "      <th>Device Usage</th>\n",
       "      <th>Time Spent Online (hrs/weekday)</th>\n",
       "      <th>Time Spent Online (hrs/weekend)</th>\n",
       "      <th>Click-Through Rates (CTR)</th>\n",
       "      <th>Conversion Rates</th>\n",
       "      <th>Ad Interaction Time (sec)</th>\n",
       "      <th>Income Level</th>\n",
       "      <th>Top Interests</th>\n",
       "    </tr>\n",
       "  </thead>\n",
       "  <tbody>\n",
       "    <tr>\n",
       "      <th>0</th>\n",
       "      <td>1</td>\n",
       "      <td>25-34</td>\n",
       "      <td>Female</td>\n",
       "      <td>Suburban</td>\n",
       "      <td>Hindi</td>\n",
       "      <td>Technical</td>\n",
       "      <td>5640</td>\n",
       "      <td>190</td>\n",
       "      <td>Mobile Only</td>\n",
       "      <td>4.5</td>\n",
       "      <td>1.7</td>\n",
       "      <td>0.193</td>\n",
       "      <td>0.067</td>\n",
       "      <td>25</td>\n",
       "      <td>20k-40k</td>\n",
       "      <td>Digital Marketing</td>\n",
       "    </tr>\n",
       "    <tr>\n",
       "      <th>1</th>\n",
       "      <td>2</td>\n",
       "      <td>65+</td>\n",
       "      <td>Male</td>\n",
       "      <td>Urban</td>\n",
       "      <td>Hindi</td>\n",
       "      <td>PhD</td>\n",
       "      <td>9501</td>\n",
       "      <td>375</td>\n",
       "      <td>Tablet</td>\n",
       "      <td>0.5</td>\n",
       "      <td>7.7</td>\n",
       "      <td>0.114</td>\n",
       "      <td>0.044</td>\n",
       "      <td>68</td>\n",
       "      <td>0-20k</td>\n",
       "      <td>Data Science</td>\n",
       "    </tr>\n",
       "    <tr>\n",
       "      <th>2</th>\n",
       "      <td>3</td>\n",
       "      <td>45-54</td>\n",
       "      <td>Female</td>\n",
       "      <td>Suburban</td>\n",
       "      <td>Spanish</td>\n",
       "      <td>Technical</td>\n",
       "      <td>4775</td>\n",
       "      <td>187</td>\n",
       "      <td>Mobile Only</td>\n",
       "      <td>4.5</td>\n",
       "      <td>5.6</td>\n",
       "      <td>0.153</td>\n",
       "      <td>0.095</td>\n",
       "      <td>80</td>\n",
       "      <td>60k-80k</td>\n",
       "      <td>Fitness and Wellness</td>\n",
       "    </tr>\n",
       "    <tr>\n",
       "      <th>3</th>\n",
       "      <td>4</td>\n",
       "      <td>35-44</td>\n",
       "      <td>Female</td>\n",
       "      <td>Rural</td>\n",
       "      <td>Spanish</td>\n",
       "      <td>PhD</td>\n",
       "      <td>9182</td>\n",
       "      <td>152</td>\n",
       "      <td>Desktop Only</td>\n",
       "      <td>3.1</td>\n",
       "      <td>4.2</td>\n",
       "      <td>0.093</td>\n",
       "      <td>0.061</td>\n",
       "      <td>65</td>\n",
       "      <td>100k+</td>\n",
       "      <td>Gaming, DIY Crafts</td>\n",
       "    </tr>\n",
       "    <tr>\n",
       "      <th>4</th>\n",
       "      <td>5</td>\n",
       "      <td>25-34</td>\n",
       "      <td>Female</td>\n",
       "      <td>Urban</td>\n",
       "      <td>English</td>\n",
       "      <td>Technical</td>\n",
       "      <td>6848</td>\n",
       "      <td>371</td>\n",
       "      <td>Mobile Only</td>\n",
       "      <td>2.0</td>\n",
       "      <td>3.8</td>\n",
       "      <td>0.175</td>\n",
       "      <td>0.022</td>\n",
       "      <td>99</td>\n",
       "      <td>20k-40k</td>\n",
       "      <td>Fitness and Wellness, Investing and Finance, G...</td>\n",
       "    </tr>\n",
       "  </tbody>\n",
       "</table>\n",
       "</div>"
      ],
      "text/plain": [
       "   User ID    Age  Gender  Location Language Education Level  \\\n",
       "0        1  25-34  Female  Suburban    Hindi       Technical   \n",
       "1        2    65+    Male     Urban    Hindi             PhD   \n",
       "2        3  45-54  Female  Suburban  Spanish       Technical   \n",
       "3        4  35-44  Female     Rural  Spanish             PhD   \n",
       "4        5  25-34  Female     Urban  English       Technical   \n",
       "\n",
       "   Likes and Reactions  Followed Accounts  Device Usage  \\\n",
       "0                 5640                190   Mobile Only   \n",
       "1                 9501                375        Tablet   \n",
       "2                 4775                187   Mobile Only   \n",
       "3                 9182                152  Desktop Only   \n",
       "4                 6848                371   Mobile Only   \n",
       "\n",
       "   Time Spent Online (hrs/weekday)  Time Spent Online (hrs/weekend)  \\\n",
       "0                              4.5                              1.7   \n",
       "1                              0.5                              7.7   \n",
       "2                              4.5                              5.6   \n",
       "3                              3.1                              4.2   \n",
       "4                              2.0                              3.8   \n",
       "\n",
       "   Click-Through Rates (CTR)  Conversion Rates  Ad Interaction Time (sec)  \\\n",
       "0                      0.193             0.067                         25   \n",
       "1                      0.114             0.044                         68   \n",
       "2                      0.153             0.095                         80   \n",
       "3                      0.093             0.061                         65   \n",
       "4                      0.175             0.022                         99   \n",
       "\n",
       "  Income Level                                      Top Interests  \n",
       "0      20k-40k                                  Digital Marketing  \n",
       "1        0-20k                                       Data Science  \n",
       "2      60k-80k                               Fitness and Wellness  \n",
       "3        100k+                                 Gaming, DIY Crafts  \n",
       "4      20k-40k  Fitness and Wellness, Investing and Finance, G...  "
      ]
     },
     "execution_count": 78,
     "metadata": {},
     "output_type": "execute_result"
    }
   ],
   "source": [
    "data.head()"
   ]
  },
  {
   "cell_type": "code",
   "execution_count": 79,
   "metadata": {},
   "outputs": [
    {
     "data": {
      "text/plain": [
       "User ID                            0\n",
       "Age                                0\n",
       "Gender                             0\n",
       "Location                           0\n",
       "Language                           0\n",
       "Education Level                    0\n",
       "Likes and Reactions                0\n",
       "Followed Accounts                  0\n",
       "Device Usage                       0\n",
       "Time Spent Online (hrs/weekday)    0\n",
       "Time Spent Online (hrs/weekend)    0\n",
       "Click-Through Rates (CTR)          0\n",
       "Conversion Rates                   0\n",
       "Ad Interaction Time (sec)          0\n",
       "Income Level                       0\n",
       "Top Interests                      0\n",
       "dtype: int64"
      ]
     },
     "execution_count": 79,
     "metadata": {},
     "output_type": "execute_result"
    }
   ],
   "source": [
    "data.isnull().sum()"
   ]
  },
  {
   "cell_type": "code",
   "execution_count": 80,
   "metadata": {},
   "outputs": [
    {
     "name": "stdout",
     "output_type": "stream",
     "text": [
      "<class 'pandas.core.frame.DataFrame'>\n",
      "RangeIndex: 1000 entries, 0 to 999\n",
      "Data columns (total 16 columns):\n",
      " #   Column                           Non-Null Count  Dtype  \n",
      "---  ------                           --------------  -----  \n",
      " 0   User ID                          1000 non-null   int64  \n",
      " 1   Age                              1000 non-null   object \n",
      " 2   Gender                           1000 non-null   object \n",
      " 3   Location                         1000 non-null   object \n",
      " 4   Language                         1000 non-null   object \n",
      " 5   Education Level                  1000 non-null   object \n",
      " 6   Likes and Reactions              1000 non-null   int64  \n",
      " 7   Followed Accounts                1000 non-null   int64  \n",
      " 8   Device Usage                     1000 non-null   object \n",
      " 9   Time Spent Online (hrs/weekday)  1000 non-null   float64\n",
      " 10  Time Spent Online (hrs/weekend)  1000 non-null   float64\n",
      " 11  Click-Through Rates (CTR)        1000 non-null   float64\n",
      " 12  Conversion Rates                 1000 non-null   float64\n",
      " 13  Ad Interaction Time (sec)        1000 non-null   int64  \n",
      " 14  Income Level                     1000 non-null   object \n",
      " 15  Top Interests                    1000 non-null   object \n",
      "dtypes: float64(4), int64(4), object(8)\n",
      "memory usage: 125.1+ KB\n"
     ]
    }
   ],
   "source": [
    "data.info()"
   ]
  },
  {
   "cell_type": "code",
   "execution_count": 81,
   "metadata": {},
   "outputs": [
    {
     "data": {
      "text/html": [
       "<div>\n",
       "<style scoped>\n",
       "    .dataframe tbody tr th:only-of-type {\n",
       "        vertical-align: middle;\n",
       "    }\n",
       "\n",
       "    .dataframe tbody tr th {\n",
       "        vertical-align: top;\n",
       "    }\n",
       "\n",
       "    .dataframe thead th {\n",
       "        text-align: right;\n",
       "    }\n",
       "</style>\n",
       "<table border=\"1\" class=\"dataframe\">\n",
       "  <thead>\n",
       "    <tr style=\"text-align: right;\">\n",
       "      <th></th>\n",
       "      <th>User ID</th>\n",
       "      <th>Likes and Reactions</th>\n",
       "      <th>Followed Accounts</th>\n",
       "      <th>Time Spent Online (hrs/weekday)</th>\n",
       "      <th>Time Spent Online (hrs/weekend)</th>\n",
       "      <th>Click-Through Rates (CTR)</th>\n",
       "      <th>Conversion Rates</th>\n",
       "      <th>Ad Interaction Time (sec)</th>\n",
       "    </tr>\n",
       "  </thead>\n",
       "  <tbody>\n",
       "    <tr>\n",
       "      <th>count</th>\n",
       "      <td>1000.000000</td>\n",
       "      <td>1000.000000</td>\n",
       "      <td>1000.000000</td>\n",
       "      <td>1000.000000</td>\n",
       "      <td>1000.000000</td>\n",
       "      <td>1000.000000</td>\n",
       "      <td>1000.000000</td>\n",
       "      <td>1000.000000</td>\n",
       "    </tr>\n",
       "    <tr>\n",
       "      <th>mean</th>\n",
       "      <td>500.500000</td>\n",
       "      <td>4997.084000</td>\n",
       "      <td>251.438000</td>\n",
       "      <td>2.757500</td>\n",
       "      <td>4.601600</td>\n",
       "      <td>0.125333</td>\n",
       "      <td>0.049805</td>\n",
       "      <td>91.425000</td>\n",
       "    </tr>\n",
       "    <tr>\n",
       "      <th>std</th>\n",
       "      <td>288.819436</td>\n",
       "      <td>2838.494365</td>\n",
       "      <td>141.941557</td>\n",
       "      <td>1.279735</td>\n",
       "      <td>2.026234</td>\n",
       "      <td>0.071187</td>\n",
       "      <td>0.028670</td>\n",
       "      <td>51.497965</td>\n",
       "    </tr>\n",
       "    <tr>\n",
       "      <th>min</th>\n",
       "      <td>1.000000</td>\n",
       "      <td>101.000000</td>\n",
       "      <td>10.000000</td>\n",
       "      <td>0.500000</td>\n",
       "      <td>1.000000</td>\n",
       "      <td>0.000000</td>\n",
       "      <td>0.000000</td>\n",
       "      <td>5.000000</td>\n",
       "    </tr>\n",
       "    <tr>\n",
       "      <th>25%</th>\n",
       "      <td>250.750000</td>\n",
       "      <td>2661.250000</td>\n",
       "      <td>126.000000</td>\n",
       "      <td>1.700000</td>\n",
       "      <td>2.900000</td>\n",
       "      <td>0.065000</td>\n",
       "      <td>0.026000</td>\n",
       "      <td>45.750000</td>\n",
       "    </tr>\n",
       "    <tr>\n",
       "      <th>50%</th>\n",
       "      <td>500.500000</td>\n",
       "      <td>5002.500000</td>\n",
       "      <td>245.500000</td>\n",
       "      <td>2.800000</td>\n",
       "      <td>4.700000</td>\n",
       "      <td>0.128000</td>\n",
       "      <td>0.049000</td>\n",
       "      <td>90.000000</td>\n",
       "    </tr>\n",
       "    <tr>\n",
       "      <th>75%</th>\n",
       "      <td>750.250000</td>\n",
       "      <td>7348.750000</td>\n",
       "      <td>377.000000</td>\n",
       "      <td>3.800000</td>\n",
       "      <td>6.400000</td>\n",
       "      <td>0.186000</td>\n",
       "      <td>0.073000</td>\n",
       "      <td>137.250000</td>\n",
       "    </tr>\n",
       "    <tr>\n",
       "      <th>max</th>\n",
       "      <td>1000.000000</td>\n",
       "      <td>9973.000000</td>\n",
       "      <td>498.000000</td>\n",
       "      <td>5.000000</td>\n",
       "      <td>8.000000</td>\n",
       "      <td>0.250000</td>\n",
       "      <td>0.100000</td>\n",
       "      <td>179.000000</td>\n",
       "    </tr>\n",
       "  </tbody>\n",
       "</table>\n",
       "</div>"
      ],
      "text/plain": [
       "           User ID  Likes and Reactions  Followed Accounts  \\\n",
       "count  1000.000000          1000.000000        1000.000000   \n",
       "mean    500.500000          4997.084000         251.438000   \n",
       "std     288.819436          2838.494365         141.941557   \n",
       "min       1.000000           101.000000          10.000000   \n",
       "25%     250.750000          2661.250000         126.000000   \n",
       "50%     500.500000          5002.500000         245.500000   \n",
       "75%     750.250000          7348.750000         377.000000   \n",
       "max    1000.000000          9973.000000         498.000000   \n",
       "\n",
       "       Time Spent Online (hrs/weekday)  Time Spent Online (hrs/weekend)  \\\n",
       "count                      1000.000000                      1000.000000   \n",
       "mean                          2.757500                         4.601600   \n",
       "std                           1.279735                         2.026234   \n",
       "min                           0.500000                         1.000000   \n",
       "25%                           1.700000                         2.900000   \n",
       "50%                           2.800000                         4.700000   \n",
       "75%                           3.800000                         6.400000   \n",
       "max                           5.000000                         8.000000   \n",
       "\n",
       "       Click-Through Rates (CTR)  Conversion Rates  Ad Interaction Time (sec)  \n",
       "count                1000.000000       1000.000000                1000.000000  \n",
       "mean                    0.125333          0.049805                  91.425000  \n",
       "std                     0.071187          0.028670                  51.497965  \n",
       "min                     0.000000          0.000000                   5.000000  \n",
       "25%                     0.065000          0.026000                  45.750000  \n",
       "50%                     0.128000          0.049000                  90.000000  \n",
       "75%                     0.186000          0.073000                 137.250000  \n",
       "max                     0.250000          0.100000                 179.000000  "
      ]
     },
     "execution_count": 81,
     "metadata": {},
     "output_type": "execute_result"
    }
   ],
   "source": [
    "data.describe()"
   ]
  },
  {
   "cell_type": "markdown",
   "metadata": {},
   "source": [
    "**Q.2: Begin EDA by visualizing the distribution of the key demographic variables (age, gender,**\n",
    "**education level, and income level)**"
   ]
  },
  {
   "cell_type": "code",
   "execution_count": 82,
   "metadata": {},
   "outputs": [
    {
     "data": {
      "image/png": "[encoded data removed]",
      "text/plain": [
       "<Figure size 1200x800 with 4 Axes>"
      ]
     },
     "metadata": {},
     "output_type": "display_data"
    }
   ],
   "source": [
    "#  Visualize the distribution of key demographic variables\n",
    "plt.figure(figsize=(12, 8))\n",
    "plt.subplot(2, 2, 1)\n",
    "sns.countplot(data=data, x='Age')\n",
    "plt.subplot(2, 2, 2)\n",
    "sns.countplot(data=data, x='Gender')\n",
    "plt.subplot(2, 2, 3)\n",
    "sns.countplot(data=data, x='Education Level')\n",
    "plt.subplot(2, 2, 4)\n",
    "sns.countplot(data=data, x='Income Level')\n",
    "plt.tight_layout()\n",
    "plt.show()"
   ]
  },
  {
   "cell_type": "markdown",
   "metadata": {},
   "source": [
    "**Q.3: Now examine device usage patterns to understand the primary means by which users**\n",
    "**access the platform.**"
   ]
  },
  {
   "cell_type": "code",
   "execution_count": 83,
   "metadata": {},
   "outputs": [
    {
     "name": "stderr",
     "output_type": "stream",
     "text": [
      "C:\\Users\\jibra\\AppData\\Roaming\\Python\\Python311\\site-packages\\seaborn\\_oldcore.py:1119: FutureWarning: use_inf_as_na option is deprecated and will be removed in a future version. Convert inf values to NaN before operating instead.\n",
      "  with pd.option_context('mode.use_inf_as_na', True):\n",
      "C:\\Users\\jibra\\AppData\\Roaming\\Python\\Python311\\site-packages\\seaborn\\_oldcore.py:1119: FutureWarning: use_inf_as_na option is deprecated and will be removed in a future version. Convert inf values to NaN before operating instead.\n",
      "  with pd.option_context('mode.use_inf_as_na', True):\n"
     ]
    },
    {
     "data": {
      "image/png": "[encoded data removed]",
      "text/plain": [
       "<Figure size 1200x400 with 3 Axes>"
      ]
     },
     "metadata": {},
     "output_type": "display_data"
    }
   ],
   "source": [
    "#  Examine device usage patterns and explore users' online behavior\n",
    "plt.figure(figsize=(12, 4))\n",
    "plt.subplot(1, 3, 1)\n",
    "sns.countplot(data=data, x='Device Usage')\n",
    "plt.subplot(1, 3, 2)\n",
    "sns.histplot(data=data, x='Time Spent Online (hrs/weekday)', bins=10)\n",
    "plt.subplot(1, 3, 3)\n",
    "sns.histplot(data=data, x='Time Spent Online (hrs/weekend)', bins=10)\n",
    "plt.tight_layout()\n",
    "plt.show()\n",
    "\n"
   ]
  },
  {
   "cell_type": "markdown",
   "metadata": {},
   "source": [
    "**Q4:Analyze the average time users spend online on weekdays versus weekends.**\n",
    "**Investigate user engagement metrics, such as likes and reactions.**\n",
    "**Delve into ad interaction metrics, including Click-Through Rates (CTR), Conversion Rates, and Ad Interaction Time.**\n",
    "**It will help to understand the users’ activity patterns and their interaction with ads, which is crucial for effective ad targeting and optimization.**\n",
    "\n"
   ]
  },
  {
   "cell_type": "code",
   "execution_count": 84,
   "metadata": {},
   "outputs": [
    {
     "name": "stdout",
     "output_type": "stream",
     "text": [
      "\n",
      "Average Time Spent Online (hrs):\n",
      " Time Spent Online (hrs/weekday)    2.7575\n",
      "Time Spent Online (hrs/weekend)    4.6016\n",
      "dtype: float64\n",
      "\n",
      "Engagement Metrics:\n",
      "        Likes and Reactions  Click-Through Rates (CTR)  Conversion Rates\n",
      "count          1000.000000                1000.000000       1000.000000\n",
      "mean           4997.084000                   0.125333          0.049805\n",
      "std            2838.494365                   0.071187          0.028670\n",
      "min             101.000000                   0.000000          0.000000\n",
      "25%            2661.250000                   0.065000          0.026000\n",
      "50%            5002.500000                   0.128000          0.049000\n",
      "75%            7348.750000                   0.186000          0.073000\n",
      "max            9973.000000                   0.250000          0.100000\n"
     ]
    }
   ],
   "source": [
    "# Analyze average time spent online, user engagement metrics, and ad interaction metrics\n",
    "avg_time_online = data[['Time Spent Online (hrs/weekday)', 'Time Spent Online (hrs/weekend)']].mean()\n",
    "print(\"\\nAverage Time Spent Online (hrs):\\n\", avg_time_online)\n",
    "\n",
    "engagement_metrics = data[['Likes and Reactions', 'Click-Through Rates (CTR)', 'Conversion Rates']]\n",
    "print(\"\\nEngagement Metrics:\\n\", engagement_metrics.describe())\n",
    "\n"
   ]
  },
  {
   "cell_type": "code",
   "execution_count": 85,
   "metadata": {},
   "outputs": [
    {
     "data": {
      "text/plain": [
       "Index(['User ID', 'Age', 'Gender', 'Location', 'Language', 'Education Level',\n",
       "       'Likes and Reactions', 'Followed Accounts', 'Device Usage',\n",
       "       'Time Spent Online (hrs/weekday)', 'Time Spent Online (hrs/weekend)',\n",
       "       'Click-Through Rates (CTR)', 'Conversion Rates',\n",
       "       'Ad Interaction Time (sec)', 'Income Level', 'Top Interests'],\n",
       "      dtype='object')"
      ]
     },
     "execution_count": 85,
     "metadata": {},
     "output_type": "execute_result"
    }
   ],
   "source": [
    "data.columns"
   ]
  },
  {
   "cell_type": "code",
   "execution_count": 86,
   "metadata": {},
   "outputs": [
    {
     "name": "stderr",
     "output_type": "stream",
     "text": [
      "C:\\Users\\jibra\\AppData\\Roaming\\Python\\Python311\\site-packages\\seaborn\\_oldcore.py:1119: FutureWarning: use_inf_as_na option is deprecated and will be removed in a future version. Convert inf values to NaN before operating instead.\n",
      "  with pd.option_context('mode.use_inf_as_na', True):\n"
     ]
    },
    {
     "data": {
      "image/png": "[encoded data removed]",
      "text/plain": [
       "<Figure size 640x480 with 1 Axes>"
      ]
     },
     "metadata": {},
     "output_type": "display_data"
    },
    {
     "name": "stderr",
     "output_type": "stream",
     "text": [
      "C:\\Users\\jibra\\AppData\\Roaming\\Python\\Python311\\site-packages\\seaborn\\_oldcore.py:1119: FutureWarning: use_inf_as_na option is deprecated and will be removed in a future version. Convert inf values to NaN before operating instead.\n",
      "  with pd.option_context('mode.use_inf_as_na', True):\n"
     ]
    },
    {
     "data": {
      "image/png": "[encoded data removed]",
      "text/plain": [
       "<Figure size 640x480 with 1 Axes>"
      ]
     },
     "metadata": {},
     "output_type": "display_data"
    },
    {
     "name": "stderr",
     "output_type": "stream",
     "text": [
      "C:\\Users\\jibra\\AppData\\Roaming\\Python\\Python311\\site-packages\\seaborn\\_oldcore.py:1119: FutureWarning: use_inf_as_na option is deprecated and will be removed in a future version. Convert inf values to NaN before operating instead.\n",
      "  with pd.option_context('mode.use_inf_as_na', True):\n"
     ]
    },
    {
     "data": {
      "image/png": "[encoded data removed]",
      "text/plain": [
       "<Figure size 640x480 with 1 Axes>"
      ]
     },
     "metadata": {},
     "output_type": "display_data"
    },
    {
     "name": "stderr",
     "output_type": "stream",
     "text": [
      "C:\\Users\\jibra\\AppData\\Roaming\\Python\\Python311\\site-packages\\seaborn\\_oldcore.py:1119: FutureWarning: use_inf_as_na option is deprecated and will be removed in a future version. Convert inf values to NaN before operating instead.\n",
      "  with pd.option_context('mode.use_inf_as_na', True):\n"
     ]
    },
    {
     "data": {
      "image/png": "[encoded data removed]",
      "text/plain": [
       "<Figure size 640x480 with 1 Axes>"
      ]
     },
     "metadata": {},
     "output_type": "display_data"
    },
    {
     "name": "stderr",
     "output_type": "stream",
     "text": [
      "C:\\Users\\jibra\\AppData\\Roaming\\Python\\Python311\\site-packages\\seaborn\\_oldcore.py:1119: FutureWarning: use_inf_as_na option is deprecated and will be removed in a future version. Convert inf values to NaN before operating instead.\n",
      "  with pd.option_context('mode.use_inf_as_na', True):\n"
     ]
    },
    {
     "data": {
      "image/png": "[encoded data removed]",
      "text/plain": [
       "<Figure size 640x480 with 1 Axes>"
      ]
     },
     "metadata": {},
     "output_type": "display_data"
    },
    {
     "name": "stderr",
     "output_type": "stream",
     "text": [
      "C:\\Users\\jibra\\AppData\\Roaming\\Python\\Python311\\site-packages\\seaborn\\_oldcore.py:1119: FutureWarning: use_inf_as_na option is deprecated and will be removed in a future version. Convert inf values to NaN before operating instead.\n",
      "  with pd.option_context('mode.use_inf_as_na', True):\n"
     ]
    },
    {
     "data": {
      "image/png": "[encoded data removed]",
      "text/plain": [
       "<Figure size 640x480 with 1 Axes>"
      ]
     },
     "metadata": {},
     "output_type": "display_data"
    }
   ],
   "source": [
    "\n",
    "# Define the columns of interest\n",
    "columns = ['Time Spent Online (hrs/weekend)', 'Time Spent Online (hrs/weekday)', 'Likes and Reactions', 'Click-Through Rates (CTR)', 'Conversion Rates', 'Ad Interaction Time (sec)']\n",
    "\n",
    "# Set the color palette for the graphs\n",
    "colors = ['blue', 'green', 'red', 'orange', 'purple', 'brown']\n",
    "\n",
    "# Create a separate graph for each column\n",
    "for i, column in enumerate(columns):\n",
    "    # Extract the relevant column\n",
    "    column_data = data[column]\n",
    "    \n",
    "    # Create a histogram with KDE plot\n",
    "    sns.histplot(column_data, kde=True, color=colors[i])\n",
    "    \n",
    "    # Set the labels and title\n",
    "    plt.xlabel(column)\n",
    "    plt.ylabel('Frequency')\n",
    "    plt.title(f'Distribution of {column}')\n",
    "    \n",
    "    # Show the plot\n",
    "    plt.show()"
   ]
  },
  {
   "cell_type": "markdown",
   "metadata": {},
   "source": [
    "**Q.5: Identify the most common interests among users, which is vital for segmenting the**\n",
    "**audience and tailoring ad campaigns to match user preferences**\n"
   ]
  },
  {
   "cell_type": "code",
   "execution_count": 87,
   "metadata": {},
   "outputs": [
    {
     "name": "stdout",
     "output_type": "stream",
     "text": [
      "\n",
      "Top Interests:\n",
      " Digital Marketing         182\n",
      "Investing and Finance     171\n",
      "Music Production          169\n",
      "Fitness and Wellness      167\n",
      "Eco-Friendly Living       163\n",
      "Fashion Modelling         161\n",
      "Gourmet Cooking           157\n",
      "Reading and Literature    156\n",
      "Gaming                    155\n",
      "Pet Care                  155\n",
      "Travel and Adventure      152\n",
      "Software Engineering      151\n",
      "DIY Crafts                148\n",
      "Photography               148\n",
      "Data Science              147\n",
      "Gardening                 140\n",
      "Name: count, dtype: int64\n"
     ]
    }
   ],
   "source": [
    "#  Identify the most common interests among users\n",
    "top_interests = data['Top Interests'].str.split(', ', expand=True).stack().value_counts()\n",
    "print(\"\\nTop Interests:\\n\", top_interests)"
   ]
  },
  {
   "cell_type": "code",
   "execution_count": 88,
   "metadata": {},
   "outputs": [
    {
     "data": {
      "image/png": "[encoded data removed]",
      "text/plain": [
       "<Figure size 640x480 with 1 Axes>"
      ]
     },
     "metadata": {},
     "output_type": "display_data"
    }
   ],
   "source": [
    "# Extract the 'Top Interests' column and split the interests\n",
    "top_interests = data['Top Interests'].str.split(', ', expand=True).stack().value_counts()\n",
    "\n",
    "# Create a bar graph of the top interests\n",
    "top_interests.sort_values().plot(kind='barh', color='blue')\n",
    "\n",
    "# Set the labels and title\n",
    "plt.xlabel('Count')\n",
    "plt.ylabel('Interests')\n",
    "plt.title('Top Interests')\n",
    "\n",
    "# Show the plot\n",
    "plt.show()"
   ]
  },
  {
   "cell_type": "markdown",
   "metadata": {},
   "source": [
    "**Q.6:Make cluster of this data using the features**"
   ]
  },
  {
   "cell_type": "code",
   "execution_count": 89,
   "metadata": {},
   "outputs": [
    {
     "name": "stderr",
     "output_type": "stream",
     "text": [
      "C:\\Users\\jibra\\AppData\\Roaming\\Python\\Python311\\site-packages\\sklearn\\cluster\\_kmeans.py:1412: FutureWarning: The default value of `n_init` will change from 10 to 'auto' in 1.4. Set the value of `n_init` explicitly to suppress the warning\n",
      "  super()._check_params_vs_input(X, default_n_init=10)\n"
     ]
    },
    {
     "data": {
      "text/html": [
       "<style>#sk-container-id-3 {color: black;}#sk-container-id-3 pre{padding: 0;}#sk-container-id-3 div.sk-toggleable {background-color: white;}#sk-container-id-3 label.sk-toggleable__label {cursor: pointer;display: block;width: 100%;margin-bottom: 0;padding: 0.3em;box-sizing: border-box;text-align: center;}#sk-container-id-3 label.sk-toggleable__label-arrow:before {content: \"▸\";float: left;margin-right: 0.25em;color: #696969;}#sk-container-id-3 label.sk-toggleable__label-arrow:hover:before {color: black;}#sk-container-id-3 div.sk-estimator:hover label.sk-toggleable__label-arrow:before {color: black;}#sk-container-id-3 div.sk-toggleable__content {max-height: 0;max-width: 0;overflow: hidden;text-align: left;background-color: #f0f8ff;}#sk-container-id-3 div.sk-toggleable__content pre {margin: 0.2em;color: black;border-radius: 0.25em;background-color: #f0f8ff;}#sk-container-id-3 input.sk-toggleable__control:checked~div.sk-toggleable__content {max-height: 200px;max-width: 100%;overflow: auto;}#sk-container-id-3 input.sk-toggleable__control:checked~label.sk-toggleable__label-arrow:before {content: \"▾\";}#sk-container-id-3 div.sk-estimator input.sk-toggleable__control:checked~label.sk-toggleable__label {background-color: #d4ebff;}#sk-container-id-3 div.sk-label input.sk-toggleable__control:checked~label.sk-toggleable__label {background-color: #d4ebff;}#sk-container-id-3 input.sk-hidden--visually {border: 0;clip: rect(1px 1px 1px 1px);clip: rect(1px, 1px, 1px, 1px);height: 1px;margin: -1px;overflow: hidden;padding: 0;position: absolute;width: 1px;}#sk-container-id-3 div.sk-estimator {font-family: monospace;background-color: #f0f8ff;border: 1px dotted black;border-radius: 0.25em;box-sizing: border-box;margin-bottom: 0.5em;}#sk-container-id-3 div.sk-estimator:hover {background-color: #d4ebff;}#sk-container-id-3 div.sk-parallel-item::after {content: \"\";width: 100%;border-bottom: 1px solid gray;flex-grow: 1;}#sk-container-id-3 div.sk-label:hover label.sk-toggleable__label {background-color: #d4ebff;}#sk-container-id-3 div.sk-serial::before {content: \"\";position: absolute;border-left: 1px solid gray;box-sizing: border-box;top: 0;bottom: 0;left: 50%;z-index: 0;}#sk-container-id-3 div.sk-serial {display: flex;flex-direction: column;align-items: center;background-color: white;padding-right: 0.2em;padding-left: 0.2em;position: relative;}#sk-container-id-3 div.sk-item {position: relative;z-index: 1;}#sk-container-id-3 div.sk-parallel {display: flex;align-items: stretch;justify-content: center;background-color: white;position: relative;}#sk-container-id-3 div.sk-item::before, #sk-container-id-3 div.sk-parallel-item::before {content: \"\";position: absolute;border-left: 1px solid gray;box-sizing: border-box;top: 0;bottom: 0;left: 50%;z-index: -1;}#sk-container-id-3 div.sk-parallel-item {display: flex;flex-direction: column;z-index: 1;position: relative;background-color: white;}#sk-container-id-3 div.sk-parallel-item:first-child::after {align-self: flex-end;width: 50%;}#sk-container-id-3 div.sk-parallel-item:last-child::after {align-self: flex-start;width: 50%;}#sk-container-id-3 div.sk-parallel-item:only-child::after {width: 0;}#sk-container-id-3 div.sk-dashed-wrapped {border: 1px dashed gray;margin: 0 0.4em 0.5em 0.4em;box-sizing: border-box;padding-bottom: 0.4em;background-color: white;}#sk-container-id-3 div.sk-label label {font-family: monospace;font-weight: bold;display: inline-block;line-height: 1.2em;}#sk-container-id-3 div.sk-label-container {text-align: center;}#sk-container-id-3 div.sk-container {/* jupyter's `normalize.less` sets `[hidden] { display: none; }` but bootstrap.min.css set `[hidden] { display: none !important; }` so we also need the `!important` here to be able to override the default hidden behavior on the sphinx rendered scikit-learn.org. See: https://github.com/scikit-learn/scikit-learn/issues/21755 */display: inline-block !important;position: relative;}#sk-container-id-3 div.sk-text-repr-fallback {display: none;}</style><div id=\"sk-container-id-3\" class=\"sk-top-container\"><div class=\"sk-text-repr-fallback\"><pre>Pipeline(steps=[(&#x27;preprocessor&#x27;,\n",
       "                 ColumnTransformer(transformers=[(&#x27;num&#x27;, StandardScaler(),\n",
       "                                                  [&#x27;Likes and Reactions&#x27;,\n",
       "                                                   &#x27;Followed Accounts&#x27;,\n",
       "                                                   &#x27;Time Spent Online &#x27;\n",
       "                                                   &#x27;(hrs/weekday)&#x27;,\n",
       "                                                   &#x27;Time Spent Online &#x27;\n",
       "                                                   &#x27;(hrs/weekend)&#x27;,\n",
       "                                                   &#x27;Click-Through Rates (CTR)&#x27;,\n",
       "                                                   &#x27;Conversion Rates&#x27;,\n",
       "                                                   &#x27;Ad Interaction Time &#x27;\n",
       "                                                   &#x27;(sec)&#x27;]),\n",
       "                                                 (&#x27;cat&#x27;, OneHotEncoder(),\n",
       "                                                  [&#x27;Age&#x27;, &#x27;Gender&#x27;,\n",
       "                                                   &#x27;Education Level&#x27;,\n",
       "                                                   &#x27;Device Usage&#x27;,\n",
       "                                                   &#x27;Income Level&#x27;])])),\n",
       "                (&#x27;kmeans&#x27;, KMeans(n_clusters=4, random_state=42))])</pre><b>In a Jupyter environment, please rerun this cell to show the HTML representation or trust the notebook. <br />On GitHub, the HTML representation is unable to render, please try loading this page with nbviewer.org.</b></div><div class=\"sk-container\" hidden><div class=\"sk-item sk-dashed-wrapped\"><div class=\"sk-label-container\"><div class=\"sk-label sk-toggleable\"><input class=\"sk-toggleable__control sk-hidden--visually\" id=\"sk-estimator-id-15\" type=\"checkbox\" ><label for=\"sk-estimator-id-15\" class=\"sk-toggleable__label sk-toggleable__label-arrow\">Pipeline</label><div class=\"sk-toggleable__content\"><pre>Pipeline(steps=[(&#x27;preprocessor&#x27;,\n",
       "                 ColumnTransformer(transformers=[(&#x27;num&#x27;, StandardScaler(),\n",
       "                                                  [&#x27;Likes and Reactions&#x27;,\n",
       "                                                   &#x27;Followed Accounts&#x27;,\n",
       "                                                   &#x27;Time Spent Online &#x27;\n",
       "                                                   &#x27;(hrs/weekday)&#x27;,\n",
       "                                                   &#x27;Time Spent Online &#x27;\n",
       "                                                   &#x27;(hrs/weekend)&#x27;,\n",
       "                                                   &#x27;Click-Through Rates (CTR)&#x27;,\n",
       "                                                   &#x27;Conversion Rates&#x27;,\n",
       "                                                   &#x27;Ad Interaction Time &#x27;\n",
       "                                                   &#x27;(sec)&#x27;]),\n",
       "                                                 (&#x27;cat&#x27;, OneHotEncoder(),\n",
       "                                                  [&#x27;Age&#x27;, &#x27;Gender&#x27;,\n",
       "                                                   &#x27;Education Level&#x27;,\n",
       "                                                   &#x27;Device Usage&#x27;,\n",
       "                                                   &#x27;Income Level&#x27;])])),\n",
       "                (&#x27;kmeans&#x27;, KMeans(n_clusters=4, random_state=42))])</pre></div></div></div><div class=\"sk-serial\"><div class=\"sk-item sk-dashed-wrapped\"><div class=\"sk-label-container\"><div class=\"sk-label sk-toggleable\"><input class=\"sk-toggleable__control sk-hidden--visually\" id=\"sk-estimator-id-16\" type=\"checkbox\" ><label for=\"sk-estimator-id-16\" class=\"sk-toggleable__label sk-toggleable__label-arrow\">preprocessor: ColumnTransformer</label><div class=\"sk-toggleable__content\"><pre>ColumnTransformer(transformers=[(&#x27;num&#x27;, StandardScaler(),\n",
       "                                 [&#x27;Likes and Reactions&#x27;, &#x27;Followed Accounts&#x27;,\n",
       "                                  &#x27;Time Spent Online (hrs/weekday)&#x27;,\n",
       "                                  &#x27;Time Spent Online (hrs/weekend)&#x27;,\n",
       "                                  &#x27;Click-Through Rates (CTR)&#x27;,\n",
       "                                  &#x27;Conversion Rates&#x27;,\n",
       "                                  &#x27;Ad Interaction Time (sec)&#x27;]),\n",
       "                                (&#x27;cat&#x27;, OneHotEncoder(),\n",
       "                                 [&#x27;Age&#x27;, &#x27;Gender&#x27;, &#x27;Education Level&#x27;,\n",
       "                                  &#x27;Device Usage&#x27;, &#x27;Income Level&#x27;])])</pre></div></div></div><div class=\"sk-parallel\"><div class=\"sk-parallel-item\"><div class=\"sk-item\"><div class=\"sk-label-container\"><div class=\"sk-label sk-toggleable\"><input class=\"sk-toggleable__control sk-hidden--visually\" id=\"sk-estimator-id-17\" type=\"checkbox\" ><label for=\"sk-estimator-id-17\" class=\"sk-toggleable__label sk-toggleable__label-arrow\">num</label><div class=\"sk-toggleable__content\"><pre>[&#x27;Likes and Reactions&#x27;, &#x27;Followed Accounts&#x27;, &#x27;Time Spent Online (hrs/weekday)&#x27;, &#x27;Time Spent Online (hrs/weekend)&#x27;, &#x27;Click-Through Rates (CTR)&#x27;, &#x27;Conversion Rates&#x27;, &#x27;Ad Interaction Time (sec)&#x27;]</pre></div></div></div><div class=\"sk-serial\"><div class=\"sk-item\"><div class=\"sk-estimator sk-toggleable\"><input class=\"sk-toggleable__control sk-hidden--visually\" id=\"sk-estimator-id-18\" type=\"checkbox\" ><label for=\"sk-estimator-id-18\" class=\"sk-toggleable__label sk-toggleable__label-arrow\">StandardScaler</label><div class=\"sk-toggleable__content\"><pre>StandardScaler()</pre></div></div></div></div></div></div><div class=\"sk-parallel-item\"><div class=\"sk-item\"><div class=\"sk-label-container\"><div class=\"sk-label sk-toggleable\"><input class=\"sk-toggleable__control sk-hidden--visually\" id=\"sk-estimator-id-19\" type=\"checkbox\" ><label for=\"sk-estimator-id-19\" class=\"sk-toggleable__label sk-toggleable__label-arrow\">cat</label><div class=\"sk-toggleable__content\"><pre>[&#x27;Age&#x27;, &#x27;Gender&#x27;, &#x27;Education Level&#x27;, &#x27;Device Usage&#x27;, &#x27;Income Level&#x27;]</pre></div></div></div><div class=\"sk-serial\"><div class=\"sk-item\"><div class=\"sk-estimator sk-toggleable\"><input class=\"sk-toggleable__control sk-hidden--visually\" id=\"sk-estimator-id-20\" type=\"checkbox\" ><label for=\"sk-estimator-id-20\" class=\"sk-toggleable__label sk-toggleable__label-arrow\">OneHotEncoder</label><div class=\"sk-toggleable__content\"><pre>OneHotEncoder()</pre></div></div></div></div></div></div></div></div><div class=\"sk-item\"><div class=\"sk-estimator sk-toggleable\"><input class=\"sk-toggleable__control sk-hidden--visually\" id=\"sk-estimator-id-21\" type=\"checkbox\" ><label for=\"sk-estimator-id-21\" class=\"sk-toggleable__label sk-toggleable__label-arrow\">KMeans</label><div class=\"sk-toggleable__content\"><pre>KMeans(n_clusters=4, random_state=42)</pre></div></div></div></div></div></div></div>"
      ],
      "text/plain": [
       "Pipeline(steps=[('preprocessor',\n",
       "                 ColumnTransformer(transformers=[('num', StandardScaler(),\n",
       "                                                  ['Likes and Reactions',\n",
       "                                                   'Followed Accounts',\n",
       "                                                   'Time Spent Online '\n",
       "                                                   '(hrs/weekday)',\n",
       "                                                   'Time Spent Online '\n",
       "                                                   '(hrs/weekend)',\n",
       "                                                   'Click-Through Rates (CTR)',\n",
       "                                                   'Conversion Rates',\n",
       "                                                   'Ad Interaction Time '\n",
       "                                                   '(sec)']),\n",
       "                                                 ('cat', OneHotEncoder(),\n",
       "                                                  ['Age', 'Gender',\n",
       "                                                   'Education Level',\n",
       "                                                   'Device Usage',\n",
       "                                                   'Income Level'])])),\n",
       "                ('kmeans', KMeans(n_clusters=4, random_state=42))])"
      ]
     },
     "execution_count": 89,
     "metadata": {},
     "output_type": "execute_result"
    }
   ],
   "source": [
    "\n",
    "# Select relevant columns\n",
    "features = ['Age', 'Gender', 'Education Level', 'Likes and Reactions', 'Followed Accounts', 'Device Usage',\n",
    "            'Time Spent Online (hrs/weekday)', 'Time Spent Online (hrs/weekend)', 'Click-Through Rates (CTR)',\n",
    "            'Conversion Rates', 'Ad Interaction Time (sec)', 'Income Level']\n",
    "\n",
    "X = data[features]\n",
    "\n",
    "# One-hot encode categorical variables and standardize numerical variables\n",
    "preprocessor = ColumnTransformer(\n",
    "    transformers=[\n",
    "        ('num', StandardScaler(), ['Likes and Reactions', 'Followed Accounts', 'Time Spent Online (hrs/weekday)',\n",
    "                                   'Time Spent Online (hrs/weekend)', 'Click-Through Rates (CTR)', 'Conversion Rates',\n",
    "                                   'Ad Interaction Time (sec)']),\n",
    "        ('cat', OneHotEncoder(), ['Age', 'Gender', 'Education Level', 'Device Usage', 'Income Level'])\n",
    "    ])\n",
    "\n",
    "# Create preprocessing and clustering pipeline\n",
    "pipeline = Pipeline(steps=[('preprocessor', preprocessor),\n",
    "                           ('kmeans', KMeans(n_clusters=4, random_state=42))])\n",
    "\n",
    "# Fit the pipeline to the data\n",
    "pipeline.fit(X)"
   ]
  },
  {
   "cell_type": "code",
   "execution_count": 90,
   "metadata": {},
   "outputs": [],
   "source": [
    "# Get cluster labels\n",
    "data['Cluster'] = pipeline.named_steps['kmeans'].labels_\n"
   ]
  },
  {
   "cell_type": "code",
   "execution_count": 91,
   "metadata": {},
   "outputs": [
    {
     "name": "stdout",
     "output_type": "stream",
     "text": [
      "            User ID  Likes and Reactions  Followed Accounts  \\\n",
      "Cluster                                                       \n",
      "0        494.413428          4687.385159         163.586572   \n",
      "1        491.313559          6280.724576         361.161017   \n",
      "2        494.820717          4689.426295         358.824701   \n",
      "3        523.613043          4396.769565         129.756522   \n",
      "\n",
      "         Time Spent Online (hrs/weekday)  Time Spent Online (hrs/weekend)  \\\n",
      "Cluster                                                                     \n",
      "0                               3.361837                         4.042756   \n",
      "1                               1.749153                         4.694915   \n",
      "2                               3.501992                         4.996813   \n",
      "3                               2.236087                         4.762174   \n",
      "\n",
      "         Click-Through Rates (CTR)  Conversion Rates  \\\n",
      "Cluster                                                \n",
      "0                         0.184410          0.059449   \n",
      "1                         0.130627          0.064369   \n",
      "2                         0.107992          0.032733   \n",
      "3                         0.066135          0.041626   \n",
      "\n",
      "         Ad Interaction Time (sec)  Cluster  \n",
      "Cluster                                      \n",
      "0                        95.671378      0.0  \n",
      "1                        71.241525      1.0  \n",
      "2                       118.501992      2.0  \n",
      "3                        77.360870      3.0  \n"
     ]
    }
   ],
   "source": [
    "# Analyze the clusters\n",
    "numeric_columns = data.select_dtypes(include=[np.number]).columns\n",
    "cluster_analysis = data.groupby('Cluster')[numeric_columns].mean()\n",
    "print(cluster_analysis)"
   ]
  },
  {
   "cell_type": "code",
   "execution_count": 92,
   "metadata": {},
   "outputs": [],
   "source": [
    "# Separate numeric and categorical features\n",
    "numeric_features = ['Likes and Reactions', 'Followed Accounts', 'Time Spent Online (hrs/weekday)',\n",
    "                    'Time Spent Online (hrs/weekend)', 'Click-Through Rates (CTR)', 'Conversion Rates',\n",
    "                    'Ad Interaction Time (sec)']\n",
    "categorical_features = ['Age', 'Gender', 'Education Level', 'Device Usage', 'Income Level']\n",
    "\n",
    "# Compute mean of numeric features for each cluster\n",
    "numeric_means = data.groupby('Cluster')[numeric_features].mean()\n",
    "\n",
    "# Compute mode of categorical features for each cluster\n",
    "categorical_modes = data.groupby('Cluster')[categorical_features].agg(lambda x: pd.Series.mode(x)[0])\n",
    "\n",
    "# Combine numeric means and categorical modes\n",
    "cluster_summary = pd.concat([numeric_means, categorical_modes], axis=1)"
   ]
  },
  {
   "cell_type": "code",
   "execution_count": 93,
   "metadata": {},
   "outputs": [
    {
     "name": "stdout",
     "output_type": "stream",
     "text": [
      "Likes and Reactions                     4687.385159\n",
      "Followed Accounts                        163.586572\n",
      "Time Spent Online (hrs/weekday)            3.361837\n",
      "Time Spent Online (hrs/weekend)            4.042756\n",
      "Click-Through Rates (CTR)                   0.18441\n",
      "Conversion Rates                           0.059449\n",
      "Ad Interaction Time (sec)                 95.671378\n",
      "Age                                           25-34\n",
      "Gender                                       Female\n",
      "Education Level                            Bachelor\n",
      "Device Usage                       Mobile + Desktop\n",
      "Income Level                                20k-40k\n",
      "Name: 0, dtype: object\n"
     ]
    }
   ],
   "source": [
    "# Display cluster summary for Cluster 0\n",
    "print(cluster_summary.loc[0])"
   ]
  },
  {
   "cell_type": "code",
   "execution_count": 94,
   "metadata": {},
   "outputs": [
    {
     "name": "stdout",
     "output_type": "stream",
     "text": [
      "Likes and Reactions                     6280.724576\n",
      "Followed Accounts                        361.161017\n",
      "Time Spent Online (hrs/weekday)            1.749153\n",
      "Time Spent Online (hrs/weekend)            4.694915\n",
      "Click-Through Rates (CTR)                  0.130627\n",
      "Conversion Rates                           0.064369\n",
      "Ad Interaction Time (sec)                 71.241525\n",
      "Age                                           25-34\n",
      "Gender                                       Female\n",
      "Education Level                            Bachelor\n",
      "Device Usage                       Mobile + Desktop\n",
      "Income Level                                60k-80k\n",
      "Name: 1, dtype: object\n"
     ]
    }
   ],
   "source": [
    "print(cluster_summary.loc[1])"
   ]
  },
  {
   "cell_type": "code",
   "execution_count": 95,
   "metadata": {},
   "outputs": [
    {
     "name": "stdout",
     "output_type": "stream",
     "text": [
      "Likes and Reactions                4689.426295\n",
      "Followed Accounts                   358.824701\n",
      "Time Spent Online (hrs/weekday)       3.501992\n",
      "Time Spent Online (hrs/weekend)       4.996813\n",
      "Click-Through Rates (CTR)             0.107992\n",
      "Conversion Rates                      0.032733\n",
      "Ad Interaction Time (sec)           118.501992\n",
      "Age                                      25-34\n",
      "Gender                                    Male\n",
      "Education Level                    High School\n",
      "Device Usage                       Mobile Only\n",
      "Income Level                          80k-100k\n",
      "Name: 2, dtype: object\n"
     ]
    }
   ],
   "source": [
    "print(cluster_summary.loc[2])"
   ]
  },
  {
   "cell_type": "code",
   "execution_count": 96,
   "metadata": {},
   "outputs": [
    {
     "name": "stdout",
     "output_type": "stream",
     "text": [
      "Likes and Reactions                4396.769565\n",
      "Followed Accounts                   129.756522\n",
      "Time Spent Online (hrs/weekday)       2.236087\n",
      "Time Spent Online (hrs/weekend)       4.762174\n",
      "Click-Through Rates (CTR)             0.066135\n",
      "Conversion Rates                      0.041626\n",
      "Ad Interaction Time (sec)             77.36087\n",
      "Age                                      45-54\n",
      "Gender                                    Male\n",
      "Education Level                         Master\n",
      "Device Usage                            Tablet\n",
      "Income Level                          80k-100k\n",
      "Name: 3, dtype: object\n"
     ]
    }
   ],
   "source": [
    "print(cluster_summary.loc[3])"
   ]
  },
  {
   "cell_type": "markdown",
   "metadata": {},
   "source": [
    "**Cluster 2 – “Weekend Warriors”: High weekend online activity, moderate likes and reactions, predominantly male, age group 25-34, income level 80k-100k.**   \n",
    "**Cluster 1 – “Active Explorers”: High overall online activity, lower likes and reactions, predominantly female, age group 25-34, income level 60k-80k.**   \n",
    "**Cluster 0 – “Budget Browsers”: Moderate online activity, lowest likes and reactions, predominantly female, age group 25-34, lowest income level (0-20k).**   \n"
   ]
  },
  {
   "cell_type": "markdown",
   "metadata": {},
   "source": [
    "**Cluster 3-Senior Professionals: This cluster represents senior professionals with high income levels. They are predominantly male, aged 45-54, and have a high educational level. Their online activity is moderate on weekdays but high on weekends, and they prefer using tablets.**"
   ]
  },
  {
   "cell_type": "code",
   "execution_count": 105,
   "metadata": {},
   "outputs": [
    {
     "name": "stderr",
     "output_type": "stream",
     "text": [
      "C:\\Users\\jibra\\AppData\\Roaming\\Python\\Python311\\site-packages\\sklearn\\cluster\\_kmeans.py:1412: FutureWarning:\n",
      "\n",
      "The default value of `n_init` will change from 10 to 'auto' in 1.4. Set the value of `n_init` explicitly to suppress the warning\n",
      "\n"
     ]
    }
   ],
   "source": [
    "import pandas as pd\n",
    "import numpy as np\n",
    "import matplotlib.pyplot as plt\n",
    "from sklearn.preprocessing import LabelEncoder, StandardScaler\n",
    "from sklearn.cluster import KMeans\n",
    "import plotly.express as px\n",
    "import plotly.graph_objects as go\n",
    "\n",
    "# Assume the data is in a DataFrame called data\n",
    "# Encode categorical features\n",
    "categorical_features = ['Age', 'Gender', 'Location', 'Language', 'Education Level', 'Device Usage', 'Income Level']\n",
    "encoded_data = data.copy()\n",
    "\n",
    "for feature in categorical_features:\n",
    "    encoder = LabelEncoder()\n",
    "    encoded_data[feature] = encoder.fit_transform(encoded_data[feature])\n",
    "\n",
    "# Select relevant features for clustering\n",
    "features = [\n",
    "    'Likes and Reactions', 'Followed Accounts', 'Time Spent Online (hrs/weekday)',\n",
    "    'Time Spent Online (hrs/weekend)', 'Click-Through Rates (CTR)', 'Conversion Rates',\n",
    "    'Ad Interaction Time (sec)', 'Age', 'Gender', 'Education Level', 'Device Usage', 'Income Level'\n",
    "]\n",
    "\n",
    "# Normalize numerical features\n",
    "scaler = StandardScaler()\n",
    "encoded_data[features] = scaler.fit_transform(encoded_data[features])\n",
    "\n",
    "# Apply K-means clustering\n",
    "kmeans = KMeans(n_clusters=4, random_state=42)\n",
    "encoded_data['Cluster'] = kmeans.fit_predict(encoded_data[features])\n",
    "\n",
    "# Convert columns to numeric data type\n",
    "numeric_columns = encoded_data.select_dtypes(include=[np.number]).columns\n",
    "cluster_summary = encoded_data.groupby('Cluster')[numeric_columns].mean()\n",
    "\n",
    "# Define the fig variable\n",
    "fig = go.Figure()\n",
    "\n",
    "# Define the categories variable\n",
    "categories = ['Likes and Reactions', 'Followed Accounts', 'Time Spent Online (hrs/weekday)',\n",
    "              'Time Spent Online (hrs/weekend)', 'Click-Through Rates (CTR)', 'Conversion Rates',\n",
    "              'Ad Interaction Time (sec)']\n",
    "\n"
   ]
  },
  {
   "cell_type": "code",
   "execution_count": 106,
   "metadata": {},
   "outputs": [
    {
     "data": {
      "application/vnd.plotly.v1+json": {
       "config": {
        "plotlyServerURL": "https://plot.ly"
       },
       "data": [
        {
         "fill": "toself",
         "name": "Cluster 2 – Weekend Warriors",
         "r": [
          -0.031685080795635784,
          -0.5290734512965655,
          -0.08881089388603884,
          0.2541255149032385,
          -0.4035197710207286,
          -0.14881296363842572,
          -0.20316828010785623
         ],
         "theta": [
          "Likes and Reactions",
          "Followed Accounts",
          "Time Spent Online (hrs/weekday)",
          "Time Spent Online (hrs/weekend)",
          "Click-Through Rates (CTR)",
          "Conversion Rates",
          "Ad Interaction Time (sec)"
         ],
         "type": "scatterpolar"
        },
        {
         "fill": "toself",
         "name": "Cluster 1 – Active Explorers",
         "r": [
          -0.7392374699689088,
          -0.12914206845944318,
          0.08906967879269265,
          -0.015083478949871401,
          0.0652225505354484,
          0.07463101693067013,
          0.19296126799849417
         ],
         "theta": [
          "Likes and Reactions",
          "Followed Accounts",
          "Time Spent Online (hrs/weekday)",
          "Time Spent Online (hrs/weekend)",
          "Click-Through Rates (CTR)",
          "Conversion Rates",
          "Ad Interaction Time (sec)"
         ],
         "type": "scatterpolar"
        },
        {
         "fill": "toself",
         "name": "Cluster 0 – Budget Browsers",
         "r": [
          -0.009930450639360497,
          0.42163852776862654,
          0.08471119615431638,
          -0.2687524488671055,
          0.4394652702059784,
          0.06737814298861099,
          0.18160008617675472
         ],
         "theta": [
          "Likes and Reactions",
          "Followed Accounts",
          "Time Spent Online (hrs/weekday)",
          "Time Spent Online (hrs/weekend)",
          "Click-Through Rates (CTR)",
          "Conversion Rates",
          "Ad Interaction Time (sec)"
         ],
         "type": "scatterpolar"
        },
        {
         "fill": "toself",
         "name": "Cluster 3 – Senior Professionals",
         "r": [
          0.8548536683666895,
          0.2511602537110949,
          -0.09373557403658023,
          0.03144806262717723,
          -0.10823054232231699,
          0.0007484106458506595,
          -0.1901732296716877
         ],
         "theta": [
          "Likes and Reactions",
          "Followed Accounts",
          "Time Spent Online (hrs/weekday)",
          "Time Spent Online (hrs/weekend)",
          "Click-Through Rates (CTR)",
          "Conversion Rates",
          "Ad Interaction Time (sec)"
         ],
         "type": "scatterpolar"
        }
       ],
       "layout": {
        "polar": {
         "radialaxis": {
          "range": [
           -2,
           2
          ],
          "visible": true
         }
        },
        "showlegend": true,
        "template": {
         "data": {
          "bar": [
           {
            "error_x": {
             "color": "#2a3f5f"
            },
            "error_y": {
             "color": "#2a3f5f"
            },
            "marker": {
             "line": {
              "color": "#E5ECF6",
              "width": 0.5
             },
             "pattern": {
              "fillmode": "overlay",
              "size": 10,
              "solidity": 0.2
             }
            },
            "type": "bar"
           }
          ],
          "barpolar": [
           {
            "marker": {
             "line": {
              "color": "#E5ECF6",
              "width": 0.5
             },
             "pattern": {
              "fillmode": "overlay",
              "size": 10,
              "solidity": 0.2
             }
            },
            "type": "barpolar"
           }
          ],
          "carpet": [
           {
            "aaxis": {
             "endlinecolor": "#2a3f5f",
             "gridcolor": "white",
             "linecolor": "white",
             "minorgridcolor": "white",
             "startlinecolor": "#2a3f5f"
            },
            "baxis": {
             "endlinecolor": "#2a3f5f",
             "gridcolor": "white",
             "linecolor": "white",
             "minorgridcolor": "white",
             "startlinecolor": "#2a3f5f"
            },
            "type": "carpet"
           }
          ],
          "choropleth": [
           {
            "colorbar": {
             "outlinewidth": 0,
             "ticks": ""
            },
            "type": "choropleth"
           }
          ],
          "contour": [
           {
            "colorbar": {
             "outlinewidth": 0,
             "ticks": ""
            },
            "colorscale": [
             [
              0,
              "#0d0887"
             ],
             [
              0.1111111111111111,
              "#46039f"
             ],
             [
              0.2222222222222222,
              "#7201a8"
             ],
             [
              0.3333333333333333,
              "#9c179e"
             ],
             [
              0.4444444444444444,
              "#bd3786"
             ],
             [
              0.5555555555555556,
              "#d8576b"
             ],
             [
              0.6666666666666666,
              "#ed7953"
             ],
             [
              0.7777777777777778,
              "#fb9f3a"
             ],
             [
              0.8888888888888888,
              "#fdca26"
             ],
             [
              1,
              "#f0f921"
             ]
            ],
            "type": "contour"
           }
          ],
          "contourcarpet": [
           {
            "colorbar": {
             "outlinewidth": 0,
             "ticks": ""
            },
            "type": "contourcarpet"
           }
          ],
          "heatmap": [
           {
            "colorbar": {
             "outlinewidth": 0,
             "ticks": ""
            },
            "colorscale": [
             [
              0,
              "#0d0887"
             ],
             [
              0.1111111111111111,
              "#46039f"
             ],
             [
              0.2222222222222222,
              "#7201a8"
             ],
             [
              0.3333333333333333,
              "#9c179e"
             ],
             [
              0.4444444444444444,
              "#bd3786"
             ],
             [
              0.5555555555555556,
              "#d8576b"
             ],
             [
              0.6666666666666666,
              "#ed7953"
             ],
             [
              0.7777777777777778,
              "#fb9f3a"
             ],
             [
              0.8888888888888888,
              "#fdca26"
             ],
             [
              1,
              "#f0f921"
             ]
            ],
            "type": "heatmap"
           }
          ],
          "heatmapgl": [
           {
            "colorbar": {
             "outlinewidth": 0,
             "ticks": ""
            },
            "colorscale": [
             [
              0,
              "#0d0887"
             ],
             [
              0.1111111111111111,
              "#46039f"
             ],
             [
              0.2222222222222222,
              "#7201a8"
             ],
             [
              0.3333333333333333,
              "#9c179e"
             ],
             [
              0.4444444444444444,
              "#bd3786"
             ],
             [
              0.5555555555555556,
              "#d8576b"
             ],
             [
              0.6666666666666666,
              "#ed7953"
             ],
             [
              0.7777777777777778,
              "#fb9f3a"
             ],
             [
              0.8888888888888888,
              "#fdca26"
             ],
             [
              1,
              "#f0f921"
             ]
            ],
            "type": "heatmapgl"
           }
          ],
          "histogram": [
           {
            "marker": {
             "pattern": {
              "fillmode": "overlay",
              "size": 10,
              "solidity": 0.2
             }
            },
            "type": "histogram"
           }
          ],
          "histogram2d": [
           {
            "colorbar": {
             "outlinewidth": 0,
             "ticks": ""
            },
            "colorscale": [
             [
              0,
              "#0d0887"
             ],
             [
              0.1111111111111111,
              "#46039f"
             ],
             [
              0.2222222222222222,
              "#7201a8"
             ],
             [
              0.3333333333333333,
              "#9c179e"
             ],
             [
              0.4444444444444444,
              "#bd3786"
             ],
             [
              0.5555555555555556,
              "#d8576b"
             ],
             [
              0.6666666666666666,
              "#ed7953"
             ],
             [
              0.7777777777777778,
              "#fb9f3a"
             ],
             [
              0.8888888888888888,
              "#fdca26"
             ],
             [
              1,
              "#f0f921"
             ]
            ],
            "type": "histogram2d"
           }
          ],
          "histogram2dcontour": [
           {
            "colorbar": {
             "outlinewidth": 0,
             "ticks": ""
            },
            "colorscale": [
             [
              0,
              "#0d0887"
             ],
             [
              0.1111111111111111,
              "#46039f"
             ],
             [
              0.2222222222222222,
              "#7201a8"
             ],
             [
              0.3333333333333333,
              "#9c179e"
             ],
             [
              0.4444444444444444,
              "#bd3786"
             ],
             [
              0.5555555555555556,
              "#d8576b"
             ],
             [
              0.6666666666666666,
              "#ed7953"
             ],
             [
              0.7777777777777778,
              "#fb9f3a"
             ],
             [
              0.8888888888888888,
              "#fdca26"
             ],
             [
              1,
              "#f0f921"
             ]
            ],
            "type": "histogram2dcontour"
           }
          ],
          "mesh3d": [
           {
            "colorbar": {
             "outlinewidth": 0,
             "ticks": ""
            },
            "type": "mesh3d"
           }
          ],
          "parcoords": [
           {
            "line": {
             "colorbar": {
              "outlinewidth": 0,
              "ticks": ""
             }
            },
            "type": "parcoords"
           }
          ],
          "pie": [
           {
            "automargin": true,
            "type": "pie"
           }
          ],
          "scatter": [
           {
            "fillpattern": {
             "fillmode": "overlay",
             "size": 10,
             "solidity": 0.2
            },
            "type": "scatter"
           }
          ],
          "scatter3d": [
           {
            "line": {
             "colorbar": {
              "outlinewidth": 0,
              "ticks": ""
             }
            },
            "marker": {
             "colorbar": {
              "outlinewidth": 0,
              "ticks": ""
             }
            },
            "type": "scatter3d"
           }
          ],
          "scattercarpet": [
           {
            "marker": {
             "colorbar": {
              "outlinewidth": 0,
              "ticks": ""
             }
            },
            "type": "scattercarpet"
           }
          ],
          "scattergeo": [
           {
            "marker": {
             "colorbar": {
              "outlinewidth": 0,
              "ticks": ""
             }
            },
            "type": "scattergeo"
           }
          ],
          "scattergl": [
           {
            "marker": {
             "colorbar": {
              "outlinewidth": 0,
              "ticks": ""
             }
            },
            "type": "scattergl"
           }
          ],
          "scattermapbox": [
           {
            "marker": {
             "colorbar": {
              "outlinewidth": 0,
              "ticks": ""
             }
            },
            "type": "scattermapbox"
           }
          ],
          "scatterpolar": [
           {
            "marker": {
             "colorbar": {
              "outlinewidth": 0,
              "ticks": ""
             }
            },
            "type": "scatterpolar"
           }
          ],
          "scatterpolargl": [
           {
            "marker": {
             "colorbar": {
              "outlinewidth": 0,
              "ticks": ""
             }
            },
            "type": "scatterpolargl"
           }
          ],
          "scatterternary": [
           {
            "marker": {
             "colorbar": {
              "outlinewidth": 0,
              "ticks": ""
             }
            },
            "type": "scatterternary"
           }
          ],
          "surface": [
           {
            "colorbar": {
             "outlinewidth": 0,
             "ticks": ""
            },
            "colorscale": [
             [
              0,
              "#0d0887"
             ],
             [
              0.1111111111111111,
              "#46039f"
             ],
             [
              0.2222222222222222,
              "#7201a8"
             ],
             [
              0.3333333333333333,
              "#9c179e"
             ],
             [
              0.4444444444444444,
              "#bd3786"
             ],
             [
              0.5555555555555556,
              "#d8576b"
             ],
             [
              0.6666666666666666,
              "#ed7953"
             ],
             [
              0.7777777777777778,
              "#fb9f3a"
             ],
             [
              0.8888888888888888,
              "#fdca26"
             ],
             [
              1,
              "#f0f921"
             ]
            ],
            "type": "surface"
           }
          ],
          "table": [
           {
            "cells": {
             "fill": {
              "color": "#EBF0F8"
             },
             "line": {
              "color": "white"
             }
            },
            "header": {
             "fill": {
              "color": "#C8D4E3"
             },
             "line": {
              "color": "white"
             }
            },
            "type": "table"
           }
          ]
         },
         "layout": {
          "annotationdefaults": {
           "arrowcolor": "#2a3f5f",
           "arrowhead": 0,
           "arrowwidth": 1
          },
          "autotypenumbers": "strict",
          "coloraxis": {
           "colorbar": {
            "outlinewidth": 0,
            "ticks": ""
           }
          },
          "colorscale": {
           "diverging": [
            [
             0,
             "#8e0152"
            ],
            [
             0.1,
             "#c51b7d"
            ],
            [
             0.2,
             "#de77ae"
            ],
            [
             0.3,
             "#f1b6da"
            ],
            [
             0.4,
             "#fde0ef"
            ],
            [
             0.5,
             "#f7f7f7"
            ],
            [
             0.6,
             "#e6f5d0"
            ],
            [
             0.7,
             "#b8e186"
            ],
            [
             0.8,
             "#7fbc41"
            ],
            [
             0.9,
             "#4d9221"
            ],
            [
             1,
             "#276419"
            ]
           ],
           "sequential": [
            [
             0,
             "#0d0887"
            ],
            [
             0.1111111111111111,
             "#46039f"
            ],
            [
             0.2222222222222222,
             "#7201a8"
            ],
            [
             0.3333333333333333,
             "#9c179e"
            ],
            [
             0.4444444444444444,
             "#bd3786"
            ],
            [
             0.5555555555555556,
             "#d8576b"
            ],
            [
             0.6666666666666666,
             "#ed7953"
            ],
            [
             0.7777777777777778,
             "#fb9f3a"
            ],
            [
             0.8888888888888888,
             "#fdca26"
            ],
            [
             1,
             "#f0f921"
            ]
           ],
           "sequentialminus": [
            [
             0,
             "#0d0887"
            ],
            [
             0.1111111111111111,
             "#46039f"
            ],
            [
             0.2222222222222222,
             "#7201a8"
            ],
            [
             0.3333333333333333,
             "#9c179e"
            ],
            [
             0.4444444444444444,
             "#bd3786"
            ],
            [
             0.5555555555555556,
             "#d8576b"
            ],
            [
             0.6666666666666666,
             "#ed7953"
            ],
            [
             0.7777777777777778,
             "#fb9f3a"
            ],
            [
             0.8888888888888888,
             "#fdca26"
            ],
            [
             1,
             "#f0f921"
            ]
           ]
          },
          "colorway": [
           "#636efa",
           "#EF553B",
           "#00cc96",
           "#ab63fa",
           "#FFA15A",
           "#19d3f3",
           "#FF6692",
           "#B6E880",
           "#FF97FF",
           "#FECB52"
          ],
          "font": {
           "color": "#2a3f5f"
          },
          "geo": {
           "bgcolor": "white",
           "lakecolor": "white",
           "landcolor": "#E5ECF6",
           "showlakes": true,
           "showland": true,
           "subunitcolor": "white"
          },
          "hoverlabel": {
           "align": "left"
          },
          "hovermode": "closest",
          "mapbox": {
           "style": "light"
          },
          "paper_bgcolor": "white",
          "plot_bgcolor": "#E5ECF6",
          "polar": {
           "angularaxis": {
            "gridcolor": "white",
            "linecolor": "white",
            "ticks": ""
           },
           "bgcolor": "#E5ECF6",
           "radialaxis": {
            "gridcolor": "white",
            "linecolor": "white",
            "ticks": ""
           }
          },
          "scene": {
           "xaxis": {
            "backgroundcolor": "#E5ECF6",
            "gridcolor": "white",
            "gridwidth": 2,
            "linecolor": "white",
            "showbackground": true,
            "ticks": "",
            "zerolinecolor": "white"
           },
           "yaxis": {
            "backgroundcolor": "#E5ECF6",
            "gridcolor": "white",
            "gridwidth": 2,
            "linecolor": "white",
            "showbackground": true,
            "ticks": "",
            "zerolinecolor": "white"
           },
           "zaxis": {
            "backgroundcolor": "#E5ECF6",
            "gridcolor": "white",
            "gridwidth": 2,
            "linecolor": "white",
            "showbackground": true,
            "ticks": "",
            "zerolinecolor": "white"
           }
          },
          "shapedefaults": {
           "line": {
            "color": "#2a3f5f"
           }
          },
          "ternary": {
           "aaxis": {
            "gridcolor": "white",
            "linecolor": "white",
            "ticks": ""
           },
           "baxis": {
            "gridcolor": "white",
            "linecolor": "white",
            "ticks": ""
           },
           "bgcolor": "#E5ECF6",
           "caxis": {
            "gridcolor": "white",
            "linecolor": "white",
            "ticks": ""
           }
          },
          "title": {
           "x": 0.05
          },
          "xaxis": {
           "automargin": true,
           "gridcolor": "white",
           "linecolor": "white",
           "ticks": "",
           "title": {
            "standoff": 15
           },
           "zerolinecolor": "white",
           "zerolinewidth": 2
          },
          "yaxis": {
           "automargin": true,
           "gridcolor": "white",
           "linecolor": "white",
           "ticks": "",
           "title": {
            "standoff": 15
           },
           "zerolinecolor": "white",
           "zerolinewidth": 2
          }
         }
        },
        "title": {
         "text": "Radar Chart of Clusters"
        }
       }
      }
     },
     "metadata": {},
     "output_type": "display_data"
    }
   ],
   "source": [
    "# Define cluster names based on cluster characteristics\n",
    "cluster_names = {\n",
    "    0: \"Cluster 2 – Weekend Warriors\",\n",
    "    1: \"Cluster 1 – Active Explorers\",\n",
    "    2: \"Cluster 0 – Budget Browsers\",\n",
    "    3: \"Cluster 3 – Senior Professionals\"\n",
    "}\n",
    "\n",
    "# Define the fig variable\n",
    "fig = go.Figure()\n",
    "\n",
    "# Add traces to the fig variable\n",
    "for cluster in cluster_summary.index:\n",
    "    fig.add_trace(go.Scatterpolar(\n",
    "        r=cluster_summary.loc[cluster, categories].values,\n",
    "        theta=categories,\n",
    "        fill='toself',\n",
    "        name=cluster_names.get(cluster, f'Cluster {cluster}')\n",
    "    ))\n",
    "\n",
    "# Update the layout of the fig variable\n",
    "fig.update_layout(\n",
    "    polar=dict(\n",
    "        radialaxis=dict(\n",
    "            visible=True,\n",
    "            range=[-2, 2]  # Adjust this range based on your data\n",
    "        )),\n",
    "    showlegend=True,\n",
    "    title=\"Radar Chart of Clusters\"\n",
    ")\n",
    "\n",
    "# Show the fig variable\n",
    "fig.show()\n"
   ]
  },
  {
   "cell_type": "markdown",
   "metadata": {},
   "source": [
    "Here's a summary of the experience:\n",
    "\n",
    "1. **Data Overview:**\n",
    "   - The dataset consists of 1000 records with no missing values.\n",
    "   - It includes features such as Likes and Reactions, Followed Accounts, Time Spent Online (weekday and weekend), Click-Through Rates (CTR), Conversion Rates, and Ad Interaction Time.\n",
    "\n",
    "2. **Data Exploration:**\n",
    "   - We explored the distribution and statistics of each feature using the `describe()` function.\n",
    "   - This helped us understand the range, mean, standard deviation, and quartiles of the numerical features.\n",
    "\n",
    "3. **Data Preprocessing:**\n",
    "   - Categorical features were encoded using LabelEncoder to convert them into numeric values.\n",
    "   - Numerical features were normalized using StandardScaler to ensure uniformity in scale.\n",
    "\n",
    "4. **Clustering:**\n",
    "   - We used KMeans clustering to segment the data into distinct clusters based on the features.\n",
    "   - The number of clusters was determined based on the business requirements and the data distribution.\n",
    "\n",
    "5. **Cluster Analysis:**\n",
    "   - After clustering, we analyzed the characteristics of each cluster by computing the mean values of numerical features and identifying the dominant categories for categorical features.\n",
    "   - Based on this analysis, we assigned descriptive names to each cluster to summarize their defining characteristics.\n",
    "\n",
    "6. **Visualization:**\n",
    "   - We created a radar chart visualization to compare the mean values of selected features across the clusters.\n",
    "   - This visualization provided a clear representation of each segment's profile and highlighted their distinctive characteristics.\n",
    "\n",
    "7. **Final Outcome:**\n",
    "   - Through this process, we successfully segmented the data into meaningful clusters and gained insights into the different user segments based on their online behavior and demographics.\n",
    "\n",
    "Overall, this experience involved data exploration, preprocessing, clustering, analysis, and visualization to derive actionable insights from the dataset. The collaboration enabled us to efficiently tackle the task and derive valuable outcomes from the data."
   ]
  },
  {
   "cell_type": "markdown",
   "metadata": {},
   "source": []
  }
 ],
 "metadata": {
  "kernelspec": {
   "display_name": "Python 3",
   "language": "python",
   "name": "python3"
  },
  "language_info": {
   "codemirror_mode": {
    "name": "ipython",
    "version": 3
   },
   "file_extension": ".py",
   "mimetype": "text/x-python",
   "name": "python",
   "nbconvert_exporter": "python",
   "pygments_lexer": "ipython3",
   "version": "3.11.4"
  }
 },
 "nbformat": 4,
 "nbformat_minor": 2
}
